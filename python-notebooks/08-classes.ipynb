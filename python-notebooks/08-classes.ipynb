{
 "cells": [
  {
   "cell_type": "markdown",
   "metadata": {
    "deletable": false,
    "editable": false,
    "run_control": {
     "frozen": true
    }
   },
   "source": [
    "![](./python.png)\n",
    "# Classes · Object Oriented Programming"
   ]
  },
  {
   "cell_type": "markdown",
   "metadata": {
    "deletable": false,
    "editable": false,
    "run_control": {
     "frozen": true
    }
   },
   "source": [
    "## Defining classes\n",
    "\n",
    "Classes in Python are defined using the keyword `class`, and the base class is specified in a tuple following the class name.\n",
    "\n",
    "* Due to compatibility issues with older Python versions, all classes are derived from a base class named `object`.\n",
    "* Class methods have only one specific difference from ordinary functions - they must have an extra first name that has to be added to the beginning of the parameter list, but you do not give a value for this parameter when you call the method, Python will provide it. This particular variable refers to the object itself, and by convention, it is given the name `self`.\n",
    "* The `init` is run as soon as an object of a class is instantiated. This method is useful to do any initialization you want to do with your object."
   ]
  },
  {
   "cell_type": "code",
   "execution_count": null,
   "metadata": {},
   "outputs": [],
   "source": [
    "class Persona(object):\n",
    "\n",
    "    especie = \"Homo sapiens\"  # Variable de clase\n",
    "\n",
    "    def __init__(self, nombre):  # Método\n",
    "        self.nombre = nombre  # Variable de instancia"
   ]
  },
  {
   "cell_type": "code",
   "execution_count": null,
   "metadata": {},
   "outputs": [],
   "source": [
    "persona = Persona(\"Alberto\")\n",
    "persona.especie, persona.nombre"
   ]
  },
  {
   "cell_type": "markdown",
   "metadata": {},
   "source": [
    "## Inheritance\n",
    "\n",
    "To call base class methods we use the keyword `super`."
   ]
  },
  {
   "cell_type": "code",
   "execution_count": null,
   "metadata": {},
   "outputs": [],
   "source": [
    "class Empleado(Persona):\n",
    "    def __init__(self, nombre, empresa):#      __nombreMetodoOvariable --> No accesible desde fuera del objeto\n",
    "        super(Empleado, self).__init__(nombre)\n",
    "        self.empresa = empresa"
   ]
  },
  {
   "cell_type": "code",
   "execution_count": null,
   "metadata": {},
   "outputs": [],
   "source": [
    "empleado = Empleado(\"Marco\", \"BBVA\")\n",
    "empleado.nombre, empleado.empresa"
   ]
  },
  {
   "cell_type": "markdown",
   "metadata": {
    "deletable": false,
    "editable": false,
    "run_control": {
     "frozen": true
    }
   },
   "source": [
    "When multiple inheritance is used, Python linearize the _method resolution order_ using the [C3 method](https://en.wikipedia.org/wiki/C3_linearization)."
   ]
  },
  {
   "cell_type": "code",
   "execution_count": null,
   "metadata": {},
   "outputs": [],
   "source": [
    "class A(object):\n",
    "    pass\n",
    "\n",
    "class B(A):\n",
    "    x = \"b\"\n",
    "\n",
    "class C(A):\n",
    "    x = \"c\"\n",
    "\n",
    "# Herencia múltiple\n",
    "class D(B,C):\n",
    "    pass\n",
    "\n",
    "D.x"
   ]
  },
  {
   "cell_type": "code",
   "execution_count": null,
   "metadata": {},
   "outputs": [],
   "source": [
    "# \"Method resolution order\"\n",
    "D.__mro__"
   ]
  }
 ],
 "metadata": {
  "kernelspec": {
   "display_name": "Python 3",
   "language": "python",
   "name": "python3"
  },
  "language_info": {
   "codemirror_mode": {
    "name": "ipython",
    "version": 3
   },
   "file_extension": ".py",
   "mimetype": "text/x-python",
   "name": "python",
   "nbconvert_exporter": "python",
   "pygments_lexer": "ipython3",
   "version": "3.5.2"
  }
 },
 "nbformat": 4,
 "nbformat_minor": 2
}

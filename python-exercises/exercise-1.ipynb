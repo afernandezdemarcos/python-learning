{
 "cells": [
  {
   "cell_type": "markdown",
   "metadata": {
    "deletable": false,
    "editable": false,
    "run_control": {
     "frozen": true
    }
   },
   "source": [
    "# Part 1\n",
    "An international bank’s website requires the users to input username and password to register in their website. Using functions, write a program to:  \n",
    "* Ask the user to enter his username and password.\n",
    "* Check the validity of the entered password.  \n",
    "\n",
    "Following are the criteria for checking the password:  \n",
    "1. At least 1 number between [0-9]\n",
    "2. At least 1 letter between [A-Z]\n",
    "3. At least 1 character from [\\$\\#@\\]\n",
    "4. Minimum length of transaction password: 6\n",
    "5. Maximum length of transaction password: 12\n",
    "\n",
    "**Hint**\n",
    "- You can use the following list to check lowercase and uppercase characters in the\n",
    "password. ['a','b','c','d','e','f','g','h','i','j','k','l','m','n','o','p','q','r','s','t','u','v','w','x','y','z']\n",
    "- To assign inputs from console to variables use the function: input(“message”)"
   ]
  },
  {
   "cell_type": "code",
   "execution_count": null,
   "metadata": {},
   "outputs": [],
   "source": [
    "def check_password(pwd):\n",
    "    \"\"\"\n",
    "    Check if a given password 'pwd' satisfies all the conditions specified\n",
    "    \"\"\""
   ]
  },
  {
   "cell_type": "code",
   "execution_count": null,
   "metadata": {},
   "outputs": [],
   "source": [
    "from getpass import getpass #This function is similar to input() but it does not show the input on the screen.\n",
    "\n",
    "# Ask the user to enter his user and password\n",
    "usr = \n",
    "pwd = \n",
    "\n",
    "# Check if the password entered is correct or not\n"
   ]
  },
  {
   "cell_type": "markdown",
   "metadata": {
    "deletable": false,
    "editable": false,
    "run_control": {
     "frozen": true
    }
   },
   "source": [
    "# Part 2 (pandas)\n",
    "Choosing a new password is not an easy task. afernandez has been trying to choose a correct password for an entire day, and finally he has got some of them. Help him to detect what mistakes he did while trying to type a valid password and show him which of his passwords were totally fine.  \n",
    "For this part you will use the file **userlogs.csv**.  \n",
    "* Load the file as a dataframe using the knowledge acquired in the pandas session.\n",
    "* Create two new columns,\n",
    "    * One indicates whether the password is valid or not.\n",
    "    * The other one describes the mistake made\n",
    "* Save the resulting dataframe in userlogserrors.csv. Check pd.DataFrame.to_csv?\n",
    "* Print the valid passwords."
   ]
  },
  {
   "cell_type": "code",
   "execution_count": null,
   "metadata": {},
   "outputs": [],
   "source": []
  }
 ],
 "metadata": {
  "kernelspec": {
   "display_name": "Python 3",
   "language": "python",
   "name": "python3"
  },
  "language_info": {
   "codemirror_mode": {
    "name": "ipython",
    "version": 3
   },
   "file_extension": ".py",
   "mimetype": "text/x-python",
   "name": "python",
   "nbconvert_exporter": "python",
   "pygments_lexer": "ipython3",
   "version": "3.5.2"
  }
 },
 "nbformat": 4,
 "nbformat_minor": 2
}

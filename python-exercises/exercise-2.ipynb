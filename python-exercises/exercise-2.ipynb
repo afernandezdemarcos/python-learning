{
 "cells": [
  {
   "cell_type": "markdown",
   "metadata": {
    "deletable": false,
    "editable": false,
    "run_control": {
     "frozen": true
    }
   },
   "source": [
    "# Question 1\n",
    "Write a program to compute the frequency of the words from the input. The output should output after sorting the key alphanumerically.   \n",
    "Suppose the following input is supplied to the program:  \n",
    "New to Python or choosing between Python 2 and Python 3? Read Python 2 or Python 3.  \n",
    "Then, the output should be:  \n",
    "2:2  \n",
    "3.:1  \n",
    "3?:1  \n",
    "New:1  \n",
    "Python:5  \n",
    "Read:1  \n",
    "and:1  \n",
    "between:1  \n",
    "choosing:1  \n",
    "or:2  \n",
    "to:1   "
   ]
  },
  {
   "cell_type": "code",
   "execution_count": null,
   "metadata": {},
   "outputs": [],
   "source": []
  },
  {
   "cell_type": "markdown",
   "metadata": {
    "deletable": false,
    "editable": false,
    "run_control": {
     "frozen": true
    }
   },
   "source": [
    "# Question 2\n",
    "A robot moves in a plane starting from the original point (0,0). The robot can move toward UP, DOWN, LEFT and RIGHT with a given steps. The trace of robot movement is shown as the following:  \n",
    "UP 5  \n",
    "DOWN 3  \n",
    "LEFT 3  \n",
    "RIGHT 2  \n",
    "¡­  \n",
    "The numbers after the direction are steps. Please write a program to compute the distance from current position after a sequence of movement and original point. If the distance is a float, then just print the nearest integer.  \n",
    "Example:  \n",
    "If the following tuples are given as input to the program:  \n",
    "UP 5  \n",
    "DOWN 3  \n",
    "LEFT 3  \n",
    "RIGHT 2  \n",
    "Then, the output of the program should be:  \n",
    "2  "
   ]
  },
  {
   "cell_type": "code",
   "execution_count": null,
   "metadata": {},
   "outputs": [],
   "source": []
  }
 ],
 "metadata": {
  "kernelspec": {
   "display_name": "Python 3",
   "language": "python",
   "name": "python3"
  },
  "language_info": {
   "codemirror_mode": {
    "name": "ipython",
    "version": 3
   },
   "file_extension": ".py",
   "mimetype": "text/x-python",
   "name": "python",
   "nbconvert_exporter": "python",
   "pygments_lexer": "ipython3",
   "version": "3.5.2"
  }
 },
 "nbformat": 4,
 "nbformat_minor": 2
}
